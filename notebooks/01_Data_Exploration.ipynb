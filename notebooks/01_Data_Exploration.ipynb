# Medication Safety Pipeline: Data Exploration

#This notebook explores the synthetic EHR and drug lexicon data.

import pandas as pd

ehr = pd.read_csv("../data/sample_ehr.csv")
lex = pd.read_csv("../data/drug_lexicon.csv")

print(ehr.info())
display(ehr.head())
display(lex.head())

### Observations

#- Some patients have multiple allergies; some have none.
#- Dosing units vary (mg, PRN, QD, BID).
#- Drug lexicon contains both class and interaction data.

