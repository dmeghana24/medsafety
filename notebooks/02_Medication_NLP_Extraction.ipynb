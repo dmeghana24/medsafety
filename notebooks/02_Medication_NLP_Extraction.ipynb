# Medication NLP Extraction

#This notebook demonstrates extraction of medication mentions from free text notes and med lists.

from medsafety.nlp import extract_drug_mentions
from medsafety.utils import load_lexicon

lex = load_lexicon("../data/drug_lexicon.csv")
note = ehr.loc[0, 'note']
meds = extract_drug_mentions(note, lex)
print("Medications found:", meds)

### Insights

#- Extraction is sensitive to drug spelling. Consider adding fuzzy match for common misspellings.

