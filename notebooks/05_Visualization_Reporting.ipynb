# Visualization and Reporting

#Visual summary of flagged issues.

from medsafety.analytics import error_type_distribution

error_type_distribution(flags_df)

