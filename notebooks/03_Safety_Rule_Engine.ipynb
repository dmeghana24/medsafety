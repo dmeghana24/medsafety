# Medication Safety Rule Engine

#This notebook shows the rules-based safety checks for one patient.

from medsafety.pipeline import MedicationSafetyPipeline

pipeline = MedicationSafetyPipeline("../data/sample_ehr.csv", "../data/drug_lexicon.csv", "../data/allergy_terms.txt")
flags_df = pipeline.run()
flags_df.head()

